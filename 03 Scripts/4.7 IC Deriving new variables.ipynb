{
 "cells": [
  {
   "cell_type": "markdown",
   "id": "f08a266e-7981-44d3-a29c-f9009e02cb9a",
   "metadata": {},
   "source": [
    "# Contents:\n",
    "## 1. Importing libraries\n",
    "## 2. If statement to create a price range column\n",
    "## 3. Creating the busiest days of the week column\n",
    "## 4. Creating busiest hour of the day"
   ]
  },
  {
   "cell_type": "code",
   "execution_count": 1,
   "id": "e67faecb-9d27-4c88-9e57-5a78700ca726",
   "metadata": {},
   "outputs": [],
   "source": [
    "# importing libraries\n",
    "import pandas as pd\n",
    "import numpy as np\n",
    "import os\n"
   ]
  },
  {
   "cell_type": "code",
   "execution_count": 2,
   "id": "53638b9d-1cd9-44e8-bace-42161ba0b2c1",
   "metadata": {},
   "outputs": [],
   "source": [
    "# defining path\n",
    "path=r'C:\\Users\\akul_\\OneDrive\\Documents\\Tarishi\\CF Data analysis bootcamp\\Achievement 4-Python\\Instacart Basket Analysis'"
   ]
  },
  {
   "cell_type": "code",
   "execution_count": 3,
   "id": "a9a3a263-4a5b-4ee0-bb76-ba5f7150a6cc",
   "metadata": {},
   "outputs": [],
   "source": [
    "df_ords_prods_merge=pd.read_pickle(os.path.join(path, '02 Data', 'Prepared data', 'orders_products_final.pkl'))"
   ]
  },
  {
   "cell_type": "code",
   "execution_count": 4,
   "id": "5cc69479-0398-47a9-ae96-e93f7189c06c",
   "metadata": {},
   "outputs": [],
   "source": [
    "# create a subset\n",
    "df=df_ords_prods_merge[:1000000]"
   ]
  },
  {
   "cell_type": "code",
   "execution_count": 5,
   "id": "72c82346-9189-4fcf-b9cb-b693e24bf22a",
   "metadata": {},
   "outputs": [],
   "source": [
    "# Defining a function to create price range labels\n",
    "def price_label(row):\n",
    "    if row['prices']<5:\n",
    "        return 'Low-range product'\n",
    "    elif (row['prices']>5) and (row['prices']<=15):\n",
    "        return 'Mid-range product'\n",
    "    elif row['prices']>15:\n",
    "        return 'High-range product'\n",
    "    else: return 'Not enough data'"
   ]
  },
  {
   "cell_type": "code",
   "execution_count": 6,
   "id": "d55da8ea-f04f-4b1c-83d0-5c31cd2a5099",
   "metadata": {},
   "outputs": [
    {
     "name": "stderr",
     "output_type": "stream",
     "text": [
      "C:\\Users\\akul_\\AppData\\Local\\Temp\\ipykernel_7468\\3618672256.py:2: SettingWithCopyWarning: \n",
      "A value is trying to be set on a copy of a slice from a DataFrame.\n",
      "Try using .loc[row_indexer,col_indexer] = value instead\n",
      "\n",
      "See the caveats in the documentation: https://pandas.pydata.org/pandas-docs/stable/user_guide/indexing.html#returning-a-view-versus-a-copy\n",
      "  df['price_range']=df.apply(price_label, axis=1)\n"
     ]
    }
   ],
   "source": [
    "# apply the function and create a new column called price_range\n",
    "df['price_range']=df.apply(price_label, axis=1)"
   ]
  },
  {
   "cell_type": "code",
   "execution_count": 7,
   "id": "7f516fde-1bf1-496b-ad05-442ae45b16e0",
   "metadata": {},
   "outputs": [
    {
     "data": {
      "text/plain": [
       "price_range\n",
       "Mid-range product     673183\n",
       "Low-range product     307024\n",
       "High-range product     12425\n",
       "Not enough data         7368\n",
       "Name: count, dtype: int64"
      ]
     },
     "execution_count": 7,
     "metadata": {},
     "output_type": "execute_result"
    }
   ],
   "source": [
    "df['price_range'].value_counts(dropna=False)"
   ]
  },
  {
   "cell_type": "code",
   "execution_count": 8,
   "id": "4324b122-e5ac-46a8-8bde-a83b45ed469d",
   "metadata": {},
   "outputs": [
    {
     "data": {
      "text/plain": [
       "99999.0"
      ]
     },
     "execution_count": 8,
     "metadata": {},
     "output_type": "execute_result"
    }
   ],
   "source": [
    "df['prices'].max()"
   ]
  },
  {
   "cell_type": "markdown",
   "id": "a01d77e2-4009-4a76-88cf-eb27b87c11ec",
   "metadata": {},
   "source": [
    "## if statements with the loc() function"
   ]
  },
  {
   "cell_type": "code",
   "execution_count": 9,
   "id": "e64e188a-e148-4bfd-a5ab-9c3bf7c649dd",
   "metadata": {},
   "outputs": [
    {
     "name": "stderr",
     "output_type": "stream",
     "text": [
      "C:\\Users\\akul_\\AppData\\Local\\Temp\\ipykernel_7468\\1748159041.py:2: SettingWithCopyWarning: \n",
      "A value is trying to be set on a copy of a slice from a DataFrame.\n",
      "Try using .loc[row_indexer,col_indexer] = value instead\n",
      "\n",
      "See the caveats in the documentation: https://pandas.pydata.org/pandas-docs/stable/user_guide/indexing.html#returning-a-view-versus-a-copy\n",
      "  df.loc[df['prices']>15, 'price_range_loc']= 'High_end_product'\n"
     ]
    }
   ],
   "source": [
    "# creating different price labels without using if statement and using loc function instead\n",
    "df.loc[df['prices']>15, 'price_range_loc']= 'High_end_product'"
   ]
  },
  {
   "cell_type": "code",
   "execution_count": 10,
   "id": "71527a6d-3a5d-4bc9-8421-0843d77f040b",
   "metadata": {},
   "outputs": [],
   "source": [
    "df.loc[(df['prices']<=15) & (df['prices']>5), 'price_range_loc']= 'Mid_range_product'"
   ]
  },
  {
   "cell_type": "code",
   "execution_count": 11,
   "id": "16583ff2-8705-4f00-bca5-c3174d233e23",
   "metadata": {},
   "outputs": [],
   "source": [
    "df.loc[df['prices']<=5, 'price_range_loc']= 'Low_range_product'"
   ]
  },
  {
   "cell_type": "code",
   "execution_count": 12,
   "id": "9a4dd4e2-ccbd-475a-acc6-bf7f2ce73067",
   "metadata": {},
   "outputs": [
    {
     "data": {
      "text/plain": [
       "price_range_loc\n",
       "Mid_range_product    673183\n",
       "Low_range_product    314392\n",
       "High_end_product      12425\n",
       "Name: count, dtype: int64"
      ]
     },
     "execution_count": 12,
     "metadata": {},
     "output_type": "execute_result"
    }
   ],
   "source": [
    "df['price_range_loc'].value_counts(dropna=False)"
   ]
  },
  {
   "cell_type": "markdown",
   "id": "bd04a54a-04a5-4ab4-9cb3-4f5d928bb31c",
   "metadata": {},
   "source": [
    "## The for-loop"
   ]
  },
  {
   "cell_type": "code",
   "execution_count": 13,
   "id": "b536af93-78f8-44ed-a32f-4dc75edf461c",
   "metadata": {},
   "outputs": [
    {
     "data": {
      "text/plain": [
       "orders_day_of_week\n",
       "0    6204182\n",
       "1    5660230\n",
       "6    4496490\n",
       "2    4213830\n",
       "5    4205791\n",
       "3    3840534\n",
       "4    3783802\n",
       "Name: count, dtype: int64"
      ]
     },
     "execution_count": 13,
     "metadata": {},
     "output_type": "execute_result"
    }
   ],
   "source": [
    "# check the frequency of busiest day of the week for orders\n",
    "df_ords_prods_merge['orders_day_of_week'].value_counts(dropna=False)"
   ]
  },
  {
   "cell_type": "code",
   "execution_count": 15,
   "id": "78b8cd4f-19ca-4734-be69-6a21e2852ffe",
   "metadata": {},
   "outputs": [
    {
     "data": {
      "text/html": [
       "<div>\n",
       "<style scoped>\n",
       "    .dataframe tbody tr th:only-of-type {\n",
       "        vertical-align: middle;\n",
       "    }\n",
       "\n",
       "    .dataframe tbody tr th {\n",
       "        vertical-align: top;\n",
       "    }\n",
       "\n",
       "    .dataframe thead th {\n",
       "        text-align: right;\n",
       "    }\n",
       "</style>\n",
       "<table border=\"1\" class=\"dataframe\">\n",
       "  <thead>\n",
       "    <tr style=\"text-align: right;\">\n",
       "      <th></th>\n",
       "      <th>order_id</th>\n",
       "      <th>user_id</th>\n",
       "      <th>no_of_orders</th>\n",
       "      <th>orders_day_of_week</th>\n",
       "      <th>order_hour_of_day</th>\n",
       "      <th>days_since_prior_order</th>\n",
       "      <th>product_id</th>\n",
       "      <th>add_to_cart_order</th>\n",
       "      <th>reordered</th>\n",
       "      <th>_merge</th>\n",
       "      <th>product_name</th>\n",
       "      <th>aisle_id</th>\n",
       "      <th>department_id</th>\n",
       "      <th>prices</th>\n",
       "    </tr>\n",
       "  </thead>\n",
       "  <tbody>\n",
       "    <tr>\n",
       "      <th>0</th>\n",
       "      <td>2539329</td>\n",
       "      <td>1</td>\n",
       "      <td>1</td>\n",
       "      <td>2</td>\n",
       "      <td>8</td>\n",
       "      <td>NaN</td>\n",
       "      <td>196</td>\n",
       "      <td>1</td>\n",
       "      <td>0</td>\n",
       "      <td>both</td>\n",
       "      <td>Soda</td>\n",
       "      <td>77</td>\n",
       "      <td>7</td>\n",
       "      <td>9.0</td>\n",
       "    </tr>\n",
       "    <tr>\n",
       "      <th>1</th>\n",
       "      <td>2539329</td>\n",
       "      <td>1</td>\n",
       "      <td>1</td>\n",
       "      <td>2</td>\n",
       "      <td>8</td>\n",
       "      <td>NaN</td>\n",
       "      <td>14084</td>\n",
       "      <td>2</td>\n",
       "      <td>0</td>\n",
       "      <td>both</td>\n",
       "      <td>Organic Unsweetened Vanilla Almond Milk</td>\n",
       "      <td>91</td>\n",
       "      <td>16</td>\n",
       "      <td>12.5</td>\n",
       "    </tr>\n",
       "    <tr>\n",
       "      <th>2</th>\n",
       "      <td>2539329</td>\n",
       "      <td>1</td>\n",
       "      <td>1</td>\n",
       "      <td>2</td>\n",
       "      <td>8</td>\n",
       "      <td>NaN</td>\n",
       "      <td>12427</td>\n",
       "      <td>3</td>\n",
       "      <td>0</td>\n",
       "      <td>both</td>\n",
       "      <td>Original Beef Jerky</td>\n",
       "      <td>23</td>\n",
       "      <td>19</td>\n",
       "      <td>4.4</td>\n",
       "    </tr>\n",
       "    <tr>\n",
       "      <th>3</th>\n",
       "      <td>2539329</td>\n",
       "      <td>1</td>\n",
       "      <td>1</td>\n",
       "      <td>2</td>\n",
       "      <td>8</td>\n",
       "      <td>NaN</td>\n",
       "      <td>26088</td>\n",
       "      <td>4</td>\n",
       "      <td>0</td>\n",
       "      <td>both</td>\n",
       "      <td>Aged White Cheddar Popcorn</td>\n",
       "      <td>23</td>\n",
       "      <td>19</td>\n",
       "      <td>4.7</td>\n",
       "    </tr>\n",
       "    <tr>\n",
       "      <th>4</th>\n",
       "      <td>2539329</td>\n",
       "      <td>1</td>\n",
       "      <td>1</td>\n",
       "      <td>2</td>\n",
       "      <td>8</td>\n",
       "      <td>NaN</td>\n",
       "      <td>26405</td>\n",
       "      <td>5</td>\n",
       "      <td>0</td>\n",
       "      <td>both</td>\n",
       "      <td>XL Pick-A-Size Paper Towel Rolls</td>\n",
       "      <td>54</td>\n",
       "      <td>17</td>\n",
       "      <td>1.0</td>\n",
       "    </tr>\n",
       "    <tr>\n",
       "      <th>...</th>\n",
       "      <td>...</td>\n",
       "      <td>...</td>\n",
       "      <td>...</td>\n",
       "      <td>...</td>\n",
       "      <td>...</td>\n",
       "      <td>...</td>\n",
       "      <td>...</td>\n",
       "      <td>...</td>\n",
       "      <td>...</td>\n",
       "      <td>...</td>\n",
       "      <td>...</td>\n",
       "      <td>...</td>\n",
       "      <td>...</td>\n",
       "      <td>...</td>\n",
       "    </tr>\n",
       "    <tr>\n",
       "      <th>32404854</th>\n",
       "      <td>2977660</td>\n",
       "      <td>206209</td>\n",
       "      <td>13</td>\n",
       "      <td>1</td>\n",
       "      <td>12</td>\n",
       "      <td>7.0</td>\n",
       "      <td>14197</td>\n",
       "      <td>5</td>\n",
       "      <td>1</td>\n",
       "      <td>both</td>\n",
       "      <td>Tomato Paste</td>\n",
       "      <td>9</td>\n",
       "      <td>9</td>\n",
       "      <td>5.6</td>\n",
       "    </tr>\n",
       "    <tr>\n",
       "      <th>32404855</th>\n",
       "      <td>2977660</td>\n",
       "      <td>206209</td>\n",
       "      <td>13</td>\n",
       "      <td>1</td>\n",
       "      <td>12</td>\n",
       "      <td>7.0</td>\n",
       "      <td>38730</td>\n",
       "      <td>6</td>\n",
       "      <td>0</td>\n",
       "      <td>both</td>\n",
       "      <td>Brownie Crunch High Protein Bar</td>\n",
       "      <td>3</td>\n",
       "      <td>19</td>\n",
       "      <td>5.9</td>\n",
       "    </tr>\n",
       "    <tr>\n",
       "      <th>32404856</th>\n",
       "      <td>2977660</td>\n",
       "      <td>206209</td>\n",
       "      <td>13</td>\n",
       "      <td>1</td>\n",
       "      <td>12</td>\n",
       "      <td>7.0</td>\n",
       "      <td>31477</td>\n",
       "      <td>7</td>\n",
       "      <td>0</td>\n",
       "      <td>both</td>\n",
       "      <td>High Protein Bar Chunky Peanut Butter</td>\n",
       "      <td>3</td>\n",
       "      <td>19</td>\n",
       "      <td>4.2</td>\n",
       "    </tr>\n",
       "    <tr>\n",
       "      <th>32404857</th>\n",
       "      <td>2977660</td>\n",
       "      <td>206209</td>\n",
       "      <td>13</td>\n",
       "      <td>1</td>\n",
       "      <td>12</td>\n",
       "      <td>7.0</td>\n",
       "      <td>6567</td>\n",
       "      <td>8</td>\n",
       "      <td>0</td>\n",
       "      <td>both</td>\n",
       "      <td>Chocolate Peanut Butter Protein Bar</td>\n",
       "      <td>3</td>\n",
       "      <td>19</td>\n",
       "      <td>4.9</td>\n",
       "    </tr>\n",
       "    <tr>\n",
       "      <th>32404858</th>\n",
       "      <td>2977660</td>\n",
       "      <td>206209</td>\n",
       "      <td>13</td>\n",
       "      <td>1</td>\n",
       "      <td>12</td>\n",
       "      <td>7.0</td>\n",
       "      <td>22920</td>\n",
       "      <td>9</td>\n",
       "      <td>0</td>\n",
       "      <td>both</td>\n",
       "      <td>Roasted &amp; Salted Shelled Pistachios</td>\n",
       "      <td>117</td>\n",
       "      <td>19</td>\n",
       "      <td>1.7</td>\n",
       "    </tr>\n",
       "  </tbody>\n",
       "</table>\n",
       "<p>32404859 rows × 14 columns</p>\n",
       "</div>"
      ],
      "text/plain": [
       "          order_id  user_id  no_of_orders  orders_day_of_week  \\\n",
       "0          2539329        1             1                   2   \n",
       "1          2539329        1             1                   2   \n",
       "2          2539329        1             1                   2   \n",
       "3          2539329        1             1                   2   \n",
       "4          2539329        1             1                   2   \n",
       "...            ...      ...           ...                 ...   \n",
       "32404854   2977660   206209            13                   1   \n",
       "32404855   2977660   206209            13                   1   \n",
       "32404856   2977660   206209            13                   1   \n",
       "32404857   2977660   206209            13                   1   \n",
       "32404858   2977660   206209            13                   1   \n",
       "\n",
       "          order_hour_of_day  days_since_prior_order  product_id  \\\n",
       "0                         8                     NaN         196   \n",
       "1                         8                     NaN       14084   \n",
       "2                         8                     NaN       12427   \n",
       "3                         8                     NaN       26088   \n",
       "4                         8                     NaN       26405   \n",
       "...                     ...                     ...         ...   \n",
       "32404854                 12                     7.0       14197   \n",
       "32404855                 12                     7.0       38730   \n",
       "32404856                 12                     7.0       31477   \n",
       "32404857                 12                     7.0        6567   \n",
       "32404858                 12                     7.0       22920   \n",
       "\n",
       "          add_to_cart_order  reordered _merge  \\\n",
       "0                         1          0   both   \n",
       "1                         2          0   both   \n",
       "2                         3          0   both   \n",
       "3                         4          0   both   \n",
       "4                         5          0   both   \n",
       "...                     ...        ...    ...   \n",
       "32404854                  5          1   both   \n",
       "32404855                  6          0   both   \n",
       "32404856                  7          0   both   \n",
       "32404857                  8          0   both   \n",
       "32404858                  9          0   both   \n",
       "\n",
       "                                     product_name  aisle_id  department_id  \\\n",
       "0                                            Soda        77              7   \n",
       "1         Organic Unsweetened Vanilla Almond Milk        91             16   \n",
       "2                             Original Beef Jerky        23             19   \n",
       "3                      Aged White Cheddar Popcorn        23             19   \n",
       "4                XL Pick-A-Size Paper Towel Rolls        54             17   \n",
       "...                                           ...       ...            ...   \n",
       "32404854                             Tomato Paste         9              9   \n",
       "32404855          Brownie Crunch High Protein Bar         3             19   \n",
       "32404856    High Protein Bar Chunky Peanut Butter         3             19   \n",
       "32404857      Chocolate Peanut Butter Protein Bar         3             19   \n",
       "32404858      Roasted & Salted Shelled Pistachios       117             19   \n",
       "\n",
       "          prices  \n",
       "0            9.0  \n",
       "1           12.5  \n",
       "2            4.4  \n",
       "3            4.7  \n",
       "4            1.0  \n",
       "...          ...  \n",
       "32404854     5.6  \n",
       "32404855     5.9  \n",
       "32404856     4.2  \n",
       "32404857     4.9  \n",
       "32404858     1.7  \n",
       "\n",
       "[32404859 rows x 14 columns]"
      ]
     },
     "execution_count": 15,
     "metadata": {},
     "output_type": "execute_result"
    }
   ],
   "source": [
    "df_ords_prods_merge"
   ]
  },
  {
   "cell_type": "code",
   "execution_count": 20,
   "id": "3d7cedaa-1916-4be9-9024-673f536e2475",
   "metadata": {},
   "outputs": [],
   "source": [
    "result=[]\n",
    "for value in df_ords_prods_merge['orders_day_of_week']:\n",
    "   if value==0:\n",
    "       result.append('Busiest day')\n",
    "   elif value==4:\n",
    "       result.append('Least busy')\n",
    "   else:\n",
    "       result.append('Regularly busy')"
   ]
  },
  {
   "cell_type": "code",
   "execution_count": null,
   "id": "d1619711-24ef-4587-b9c3-5ab43ae95a2c",
   "metadata": {},
   "outputs": [],
   "source": [
    "result"
   ]
  },
  {
   "cell_type": "code",
   "execution_count": 25,
   "id": "e88b5c1f-7443-4f31-87a1-e91a07f1c7fc",
   "metadata": {},
   "outputs": [],
   "source": [
    "df_ords_prods_merge['Busiest day']= result"
   ]
  },
  {
   "cell_type": "code",
   "execution_count": 26,
   "id": "5a6bf83e-eccf-4184-b15c-323c168ef695",
   "metadata": {},
   "outputs": [
    {
     "data": {
      "text/plain": [
       "Busiest day\n",
       "Regularly busy    22416875\n",
       "Busiest day        6204182\n",
       "Least busy         3783802\n",
       "Name: count, dtype: int64"
      ]
     },
     "execution_count": 26,
     "metadata": {},
     "output_type": "execute_result"
    }
   ],
   "source": [
    "df_ords_prods_merge['Busiest day'].value_counts(dropna=False)"
   ]
  },
  {
   "cell_type": "markdown",
   "id": "d0d4eb3f-b79b-458b-af24-b80533ad80d7",
   "metadata": {},
   "source": [
    "# Task 4.7"
   ]
  },
  {
   "cell_type": "markdown",
   "id": "88b44c63-10fc-4aa5-9823-d6209b2c722b",
   "metadata": {},
   "source": [
    "## 01 Recreating the busiest day column"
   ]
  },
  {
   "cell_type": "code",
   "execution_count": 30,
   "id": "b219402c-142d-418a-b6f2-5ee16f485118",
   "metadata": {},
   "outputs": [],
   "source": [
    "# Create a for loop \n",
    "result=[]\n",
    "for value in df_ords_prods_merge['orders_day_of_week']:\n",
    "   if value in [0,1]:\n",
    "       result.append('Busiest days')\n",
    "   elif value in [3,4]:\n",
    "       result.append('Least busy')\n",
    "   else:\n",
    "       result.append('Regularly busy')"
   ]
  },
  {
   "cell_type": "code",
   "execution_count": 31,
   "id": "cd301a85-8aa7-4112-b412-edfe28b0498c",
   "metadata": {},
   "outputs": [],
   "source": [
    "# create a new column \n",
    "\n",
    "df_ords_prods_merge['Busiest days']=result"
   ]
  },
  {
   "cell_type": "code",
   "execution_count": 32,
   "id": "1a09304b-6215-4a72-bd91-95c73ce59825",
   "metadata": {},
   "outputs": [
    {
     "data": {
      "text/plain": [
       "Busiest days\n",
       "Regularly busy    12916111\n",
       "Busiest days      11864412\n",
       "Least busy         7624336\n",
       "Name: count, dtype: int64"
      ]
     },
     "execution_count": 32,
     "metadata": {},
     "output_type": "execute_result"
    }
   ],
   "source": [
    "df_ords_prods_merge['Busiest days'].value_counts(dropna=False)"
   ]
  },
  {
   "cell_type": "markdown",
   "id": "648ecac5-e5eb-4a5d-a698-c195dcd61469",
   "metadata": {},
   "source": [
    "## 02 Busiest hour of the day"
   ]
  },
  {
   "cell_type": "code",
   "execution_count": 33,
   "id": "b1aee8a1-d160-4ce0-b7c3-410b268599db",
   "metadata": {},
   "outputs": [
    {
     "data": {
      "text/plain": [
       "order_hour_of_day\n",
       "10    2761760\n",
       "11    2736140\n",
       "14    2689136\n",
       "15    2662144\n",
       "13    2660954\n",
       "12    2618532\n",
       "16    2535202\n",
       "9     2454203\n",
       "17    2087654\n",
       "8     1718118\n",
       "18    1636502\n",
       "19    1258305\n",
       "20     976156\n",
       "7      891054\n",
       "21     795637\n",
       "22     634225\n",
       "23     402316\n",
       "6      290493\n",
       "0      218769\n",
       "1      115700\n",
       "5       87961\n",
       "2       69375\n",
       "4       53242\n",
       "3       51281\n",
       "Name: count, dtype: int64"
      ]
     },
     "execution_count": 33,
     "metadata": {},
     "output_type": "execute_result"
    }
   ],
   "source": [
    "# check the frequency of order_hour_of_day\n",
    "df_ords_prods_merge['order_hour_of_day'].value_counts(dropna=False)"
   ]
  },
  {
   "cell_type": "code",
   "execution_count": 34,
   "id": "61f31e0f-719f-4e56-ba7c-e7c3e937a1b2",
   "metadata": {},
   "outputs": [],
   "source": [
    "# creating for-loop\n",
    "busyhour=[]\n",
    "for value in df_ords_prods_merge['order_hour_of_day']:\n",
    "    if value in [10,11,14,15,13,12,16,9]:\n",
    "        busyhour.append('Most orders')\n",
    "    elif value in [17,8,18,19,20,7,21,22,23]:\n",
    "        busyhour.append('Average orders')\n",
    "    else:\n",
    "        busyhour.append('Fewest orders')\n"
   ]
  },
  {
   "cell_type": "code",
   "execution_count": 35,
   "id": "b88ebc58-566c-441d-bd8d-47e7da6165b4",
   "metadata": {},
   "outputs": [],
   "source": [
    "df_ords_prods_merge['Busiest_period_of_day']=busyhour"
   ]
  },
  {
   "cell_type": "code",
   "execution_count": 36,
   "id": "2e0b864c-552f-4be6-9420-6db10a59ae78",
   "metadata": {},
   "outputs": [
    {
     "data": {
      "text/plain": [
       "Busiest_period_of_day\n",
       "Most orders       21118071\n",
       "Average orders    10399967\n",
       "Fewest orders       886821\n",
       "Name: count, dtype: int64"
      ]
     },
     "execution_count": 36,
     "metadata": {},
     "output_type": "execute_result"
    }
   ],
   "source": [
    "df_ords_prods_merge['Busiest_period_of_day'].value_counts(dropna=False)"
   ]
  },
  {
   "cell_type": "code",
   "execution_count": 39,
   "id": "f34d0c05-0e2c-40dd-b330-8dcc128aa54a",
   "metadata": {},
   "outputs": [
    {
     "data": {
      "text/plain": [
       "(32404859, 17)"
      ]
     },
     "execution_count": 39,
     "metadata": {},
     "output_type": "execute_result"
    }
   ],
   "source": [
    "\n",
    "\n",
    "df_ords_prods_merge.shape"
   ]
  },
  {
   "cell_type": "code",
   "execution_count": 40,
   "id": "e541e79b-b249-4cde-bb0e-7425c8bf41d4",
   "metadata": {},
   "outputs": [],
   "source": [
    "# exporting pickle file \n",
    "df_ords_prods_merge.to_pickle(os.path.join(path, '02 Data','Prepared Data', 'orders_products_final.pkl'))"
   ]
  },
  {
   "cell_type": "code",
   "execution_count": null,
   "id": "9b0c8c46-8863-4207-b5f0-e4ab92697210",
   "metadata": {},
   "outputs": [],
   "source": []
  }
 ],
 "metadata": {
  "kernelspec": {
   "display_name": "Python [conda env:base] *",
   "language": "python",
   "name": "conda-base-py"
  },
  "language_info": {
   "codemirror_mode": {
    "name": "ipython",
    "version": 3
   },
   "file_extension": ".py",
   "mimetype": "text/x-python",
   "name": "python",
   "nbconvert_exporter": "python",
   "pygments_lexer": "ipython3",
   "version": "3.12.7"
  }
 },
 "nbformat": 4,
 "nbformat_minor": 5
}
