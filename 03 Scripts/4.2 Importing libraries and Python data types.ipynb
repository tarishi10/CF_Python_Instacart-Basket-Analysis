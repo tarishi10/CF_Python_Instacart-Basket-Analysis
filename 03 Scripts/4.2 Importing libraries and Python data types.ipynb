{
 "cells": [
  {
   "cell_type": "markdown",
   "id": "e69d1323-4df7-42e5-b09a-d303989d8ba3",
   "metadata": {},
   "source": [
    "# 01 Importing libraries"
   ]
  },
  {
   "cell_type": "code",
   "execution_count": 1,
   "id": "dc129383-0637-4506-aead-6028119c3503",
   "metadata": {},
   "outputs": [],
   "source": [
    "# Import libraries\n",
    "import pandas as pd\n",
    "import numpy as np\n",
    "import os"
   ]
  },
  {
   "cell_type": "markdown",
   "id": "e6a5a64c-8507-41b7-9715-44714a4a13ea",
   "metadata": {},
   "source": [
    "# Working with Python Data types"
   ]
  },
  {
   "cell_type": "code",
   "execution_count": 15,
   "id": "c7e380d7-21b8-4660-b5b3-f3269b8714b7",
   "metadata": {},
   "outputs": [],
   "source": [
    "#first way\n",
    "x=20"
   ]
  },
  {
   "cell_type": "code",
   "execution_count": 18,
   "id": "533d554b-9529-4138-8ef8-62c1cca84aab",
   "metadata": {},
   "outputs": [],
   "source": [
    "y=80"
   ]
  },
  {
   "cell_type": "code",
   "execution_count": 19,
   "id": "93003fe1-dd52-44e9-a932-414f1ebb7635",
   "metadata": {},
   "outputs": [
    {
     "name": "stdout",
     "output_type": "stream",
     "text": [
      "100\n"
     ]
    }
   ],
   "source": [
    "print(x+y)"
   ]
  },
  {
   "cell_type": "code",
   "execution_count": 20,
   "id": "c5c6ed66-ce0f-4de4-8f97-c4f5825489b0",
   "metadata": {},
   "outputs": [
    {
     "data": {
      "text/plain": [
       "100"
      ]
     },
     "execution_count": 20,
     "metadata": {},
     "output_type": "execute_result"
    }
   ],
   "source": [
    "#second way\n",
    "20*5"
   ]
  },
  {
   "cell_type": "code",
   "execution_count": 25,
   "id": "32e8c8b9-9695-4a81-92a7-87d57b79180a",
   "metadata": {},
   "outputs": [
    {
     "name": "stdout",
     "output_type": "stream",
     "text": [
      "100.0\n"
     ]
    }
   ],
   "source": [
    "#third way\n",
    "n=1000\n",
    "a=n/10\n",
    "print(a)"
   ]
  },
  {
   "cell_type": "code",
   "execution_count": 27,
   "id": "ebf540ea-3038-4941-a344-11638e77d6af",
   "metadata": {},
   "outputs": [
    {
     "name": "stdout",
     "output_type": "stream",
     "text": [
      "10.460251046025103\n"
     ]
    }
   ],
   "source": [
    "#floating point variables\n",
    "b=9.56\n",
    "c=a/b\n",
    "print(c)"
   ]
  },
  {
   "cell_type": "code",
   "execution_count": 28,
   "id": "a2dfe04e-9573-46e8-9789-08a0f3ba062c",
   "metadata": {},
   "outputs": [
    {
     "name": "stdout",
     "output_type": "stream",
     "text": [
      "Hey,there!\n"
     ]
    }
   ],
   "source": [
    "#strings\n",
    "M='Hey,'\n",
    "N='there'\n",
    "O='!'\n",
    "print(M+N+O)"
   ]
  },
  {
   "cell_type": "code",
   "execution_count": 30,
   "id": "484fc4c5-39de-4c56-b480-63220e43095c",
   "metadata": {},
   "outputs": [
    {
     "name": "stdout",
     "output_type": "stream",
     "text": [
      "Hey,there! Dear Sara.\n"
     ]
    }
   ],
   "source": [
    "#strings 2\n",
    "P = ' Dear Sara.'\n",
    "Q= M+N+O+P\n",
    "print(Q)\n"
   ]
  },
  {
   "cell_type": "code",
   "execution_count": null,
   "id": "901fc1e8-3898-41cc-904d-7f91a2925e59",
   "metadata": {},
   "outputs": [],
   "source": []
  }
 ],
 "metadata": {
  "kernelspec": {
   "display_name": "Python [conda env:base] *",
   "language": "python",
   "name": "conda-base-py"
  },
  "language_info": {
   "codemirror_mode": {
    "name": "ipython",
    "version": 3
   },
   "file_extension": ".py",
   "mimetype": "text/x-python",
   "name": "python",
   "nbconvert_exporter": "python",
   "pygments_lexer": "ipython3",
   "version": "3.12.7"
  }
 },
 "nbformat": 4,
 "nbformat_minor": 5
}
